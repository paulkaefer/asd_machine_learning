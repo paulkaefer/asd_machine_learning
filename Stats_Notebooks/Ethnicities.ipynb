{
 "cells": [
  {
   "cell_type": "code",
   "execution_count": null,
   "metadata": {},
   "outputs": [],
   "source": [
    "# Import dependencies\n",
    "import pandas as pd\n",
    "import numpy as np\n",
    "import matplotlib.pyplot as plt\n",
    "import seaborn as sns\n",
    "%matplotlib inline\n",
    "import warnings\n",
    "warnings.filterwarnings('ignore')\n",
    "import scipy.stats as stats\n",
    "import os"
   ]
  },
  {
   "cell_type": "code",
   "execution_count": null,
   "metadata": {},
   "outputs": [],
   "source": [
    "# Read in the csv\n",
    "df = pd.read_csv(\"../Resources/Autism.csv\")\n",
    "\n",
    "# Drop the null columns where all values are null\n",
    "df = df.dropna(axis='columns', how='all')\n",
    "\n",
    "# Drop the null rows\n",
    "df = df.dropna()\n",
    "\n",
    "# View all columns\n",
    "pd.set_option('display.max_columns', None)\n",
    "\n",
    "print(df.shape)\n",
    "df.head()"
   ]
  },
  {
   "cell_type": "markdown",
   "metadata": {},
   "source": [
    "# Create bar chart for Ethnic Breakdown"
   ]
  },
  {
   "cell_type": "code",
   "execution_count": null,
   "metadata": {},
   "outputs": [],
   "source": [
    "# Look at general ethnicity breakdown\n",
    "\n",
    "# Count the ethnicities in the df\n",
    "ethnicities = df['Ethnicity'].value_counts()\n",
    " \n",
    "# Create the dataframe\n",
    "ethnic_df = pd.DataFrame({\"Total Count\": ethnicities})\n",
    "ethnic_df"
   ]
  },
  {
   "cell_type": "code",
   "execution_count": null,
   "metadata": {},
   "outputs": [],
   "source": [
    "# Plot the ethnicity breakdown\n",
    "\n",
    "plt.figure(figsize=(20,10))\n",
    "sns.set(style=\"white\")\n",
    "\n",
    "ax = sns.countplot(y=\"Ethnicity\", data=df,\n",
    "                   palette=\"tab10\", alpha=1,\n",
    "                   linewidth=2,\n",
    "                   edgecolor=sns.color_palette(\"twilight\", 1))\n",
    "\n",
    "\n",
    "ax.set_title(\"Participant Ethnicity Breakdown\", fontsize=25)\n",
    "ax.set_ylabel(\"Ethnicity\", fontsize=20)\n",
    "ax.set_xlabel(\"Total\", fontsize=20)\n",
    "\n",
    "# Save figure to Images folder\n",
    "plt.savefig(os.path.join(\"..\",\"Images\", \"EthnicityBreakdown.png\"))"
   ]
  },
  {
   "cell_type": "markdown",
   "metadata": {},
   "source": [
    "# Autism Rates by Ethnicity"
   ]
  },
  {
   "cell_type": "code",
   "execution_count": null,
   "metadata": {},
   "outputs": [],
   "source": [
    "# Look at the autism rate among the ethnicities\n",
    "\n",
    "ethnicity_list = [\"white\", \"middle eastern\", \"black\", \"asian\", \"others\", \"south asians\",\n",
    "                 \"latino\", \"hispanic\", \"aboriginal\"]\n",
    "\n",
    "for this_ethnicity in ethnicity_list:\n",
    "    ethnicity_name = this_ethnicity.capitalize()\n",
    "    print(ethnicity_name)\n",
    "    \n",
    "    # Locate where ethnicity is white and get a count\n",
    "    current_pop = df.loc[df['Ethnicity'] == this_ethnicity]\n",
    "    total = current_pop['Case No'].count()\n",
    "    print(f\"{ethnicity_name} ethnicity total count: {total}\")\n",
    "\n",
    "    # Now locate within that ethnicity where autism classification is yes and get a count\n",
    "    this_group_yes = current_pop.loc[current_pop['Class'] == 'YES']\n",
    "    this_group_total = this_group_yes['Case No'].count()\n",
    "    print(f\"{ethnicity_name} sample population with autism: {this_group_total}\")\n",
    "    \n",
    "    # added this to give some separation:\n",
    "    print(\"============\")\n"
   ]
  },
  {
   "cell_type": "code",
   "execution_count": null,
   "metadata": {},
   "outputs": [],
   "source": [
    "# Percentages\n",
    "\n",
    "# With variables created above, write equations to find percentages\n",
    "wp = whites_yes_total / total_whites\n",
    "mep = me_yes_total / total_me\n",
    "ap = asian_yes_total / total_asian\n",
    "bp = black_yes_total / total_black\n",
    "op = other_yes_total / total_other\n",
    "sap = sa_yes_total / total_sa\n",
    "lp = latino_yes_total / total_latino\n",
    "hp = hisp_yes_total / total_hisp\n",
    "abp = ab_yes_total / total_ab\n",
    "\n",
    "# Place into a dataframe\n",
    "ethnic_yes_breakdown = pd.DataFrame([{\"White\": wp,\n",
    "                                      \"Middle Eastern\": mep,\n",
    "                                      \"Asian\": ap,\n",
    "                                      \"Black\": bp,\n",
    "                                      \"Other\": op,\n",
    "                                      \"South Asian\": sap,\n",
    "                                      \"Latino\": lp,\n",
    "                                      \"Hispanic\": hp,\n",
    "                                      \"Aboriginal\": abp}])\n",
    "\n",
    "# Preview\n",
    "ethnic_yes_breakdown"
   ]
  },
  {
   "cell_type": "code",
   "execution_count": null,
   "metadata": {},
   "outputs": [],
   "source": [
    "# Format the dataframe\n",
    "\n",
    "# Percentage format\n",
    "ethnic_yes_breakdown = ethnic_yes_breakdown.applymap(\"{:,.2%}\".format)\n",
    "\n",
    "# Rename the index\n",
    "ethnic_yes_breakdown = ethnic_yes_breakdown.rename(index={0:'Percentage with Autism'})\n",
    "\n",
    "# Transpose for easier reading\n",
    "ethnic_yes_breakdown = ethnic_yes_breakdown.T\n",
    "ethnic_yes_breakdown"
   ]
  },
  {
   "cell_type": "markdown",
   "metadata": {},
   "source": [
    "# Observations\n",
    "As found in 'Other_Stats', the percentage of participants with autism is ~32%, without ~68%.  What can we really tell from the ethnic data that we have?  Could the 'white' designation be an indictor?  We looked at that because it was the first ethnicity to appear on the feature selection, and it appeared higher than even sex or family history, which was surprising to us.  White might be more of a factor than other ethnicities because it's larger than all the others.     \n",
    "\n",
    "This could be something to explore more in-depth.  Given the accuracy with machine learning, how might ethnicity play a role?  It could be helpful to analyze more evenly distributed ethnic classification.  Because Autism is a global medical diagnosis, further ethnic analysis could help to hone ML detection globally.  Or upon further analysis, we might find that ethnicity is of very small significance."
   ]
  },
  {
   "cell_type": "code",
   "execution_count": null,
   "metadata": {},
   "outputs": [],
   "source": []
  }
 ],
 "metadata": {
  "kernelspec": {
   "display_name": "Python 3",
   "language": "python",
   "name": "python3"
  },
  "language_info": {
   "codemirror_mode": {
    "name": "ipython",
    "version": 3
   },
   "file_extension": ".py",
   "mimetype": "text/x-python",
   "name": "python",
   "nbconvert_exporter": "python",
   "pygments_lexer": "ipython3",
   "version": "3.6.9"
  }
 },
 "nbformat": 4,
 "nbformat_minor": 4
}
